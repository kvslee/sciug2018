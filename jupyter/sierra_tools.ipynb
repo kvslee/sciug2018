{
 "cells": [
  {
   "cell_type": "markdown",
   "metadata": {
    "collapsed": true
   },
   "source": [
    "# Sierra Data Analysis Tools\n",
    "We can create as many as analysis tools in a jupyter notebook. And we can visit anytime later to re-run the tools to view updated reports."
   ]
  },
  {
   "cell_type": "code",
   "execution_count": null,
   "metadata": {
    "collapsed": true
   },
   "outputs": [],
   "source": [
    "%%javascript\n",
    "IPython.OutputArea.prototype._should_scroll = function(lines) {return false;}"
   ]
  },
  {
   "cell_type": "markdown",
   "metadata": {},
   "source": [
    "### Expired Patrons with Checkouts (data table)\n",
    "This example demonstrates that you can run a sql query and use the query results in creating a data table. Notice that two modules (sql_queries and sierra_tools) are imported. The module sierra_tools includes the function **expired_patrons** to generate the table. "
   ]
  },
  {
   "cell_type": "code",
   "execution_count": null,
   "metadata": {
    "collapsed": true,
    "scrolled": true
   },
   "outputs": [],
   "source": [
    "import sql_queries, sierra_tools\n",
    "data = sql_queries.find_expired_patron()\n",
    "sierra_tools.expired_patrons(data)"
   ]
  },
  {
   "cell_type": "markdown",
   "metadata": {},
   "source": [
    "### Interlibrary Loan Lendings by State (map)\n",
    "This example will collect data from three sierra tables (checkout, patron_view, and patron_record_address). This search for all ILL lending transactions in the last 100 days. Our ILL lending partners have patron accounts in Sierra, whose address (state) is stored in patron_record_address table. Plotly has a plot type 'choropleth'. Currently, it can present countries and US State level map. See more <a href=\"https://plot.ly/python/choropleth-maps/\" target=\"_blank\">choropleth plot</a>"
   ]
  },
  {
   "cell_type": "code",
   "execution_count": null,
   "metadata": {
    "scrolled": false
   },
   "outputs": [],
   "source": [
    "import plotly\n",
    "import pandas as pd\n",
    "import sql_queries, sierra_tools\n",
    "ill = sql_queries.find_ill_lending()\n",
    "sierra_tools.ill_lending_map(ill)"
   ]
  },
  {
   "cell_type": "markdown",
   "metadata": {},
   "source": [
    "### Interlibrary Loan Partners\n"
   ]
  },
  {
   "cell_type": "code",
   "execution_count": null,
   "metadata": {},
   "outputs": [],
   "source": [
    "import sql_queries, sierra_tools\n",
    "partners = sql_queries.find_ill_partners('lhome')\n",
    "sierra_tools.ill_partners_map(partners)"
   ]
  },
  {
   "cell_type": "code",
   "execution_count": null,
   "metadata": {
    "collapsed": true
   },
   "outputs": [],
   "source": []
  }
 ],
 "metadata": {
  "kernelspec": {
   "display_name": "Python 3",
   "language": "python",
   "name": "python3"
  }
 },
 "nbformat": 4,
 "nbformat_minor": 2
}
