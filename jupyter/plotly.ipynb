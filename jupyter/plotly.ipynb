{
 "cells": [
  {
   "cell_type": "code",
   "execution_count": null,
   "metadata": {
    "collapsed": true
   },
   "outputs": [],
   "source": [
    "%%javascript\n",
    "IPython.OutputArea.prototype._should_scroll = function(lines) {return false;}"
   ]
  },
  {
   "cell_type": "markdown",
   "metadata": {},
   "source": [
    "# Plotly, Sierra SQL, and Jupyter\n",
    "## Three ways to run a script on Jupyter"
   ]
  },
  {
   "cell_type": "markdown",
   "metadata": {},
   "source": [
    "### Example One:  we can reuse (copy/paste) the code (the first offline chart) with minor changes:\n",
    "1. Plotly.offline.iplot\n",
    "1. init_notebook_mode(connected=True)\n",
    "1. No output filename"
   ]
  },
  {
   "cell_type": "code",
   "execution_count": 1,
   "metadata": {
    "scrolled": true
   },
   "outputs": [
    {
     "data": {
      "text/html": [
       "<script>requirejs.config({paths: { 'plotly': ['https://cdn.plot.ly/plotly-latest.min']},});if(!window.Plotly) {{require(['plotly'],function(plotly) {window.Plotly=plotly;});}}</script>"
      ],
      "text/vnd.plotly.v1+html": [
       "<script>requirejs.config({paths: { 'plotly': ['https://cdn.plot.ly/plotly-latest.min']},});if(!window.Plotly) {{require(['plotly'],function(plotly) {window.Plotly=plotly;});}}</script>"
      ]
     },
     "metadata": {},
     "output_type": "display_data"
    },
    {
     "data": {
      "application/vnd.plotly.v1+json": {
       "data": [
        {
         "type": "bar",
         "x": [
          "Leatherby",
          "Law",
          "Science",
          "Music",
          "Brandman"
         ],
         "y": [
          543,
          365,
          92,
          61,
          77
         ]
        }
       ],
       "layout": {
        "title": "SCIUG Conference"
       }
      },
      "text/html": [
       "<div id=\"a4d7d519-8809-40f4-bfc3-c7d479277d5e\" style=\"height: 525px; width: 100%;\" class=\"plotly-graph-div\"></div><script type=\"text/javascript\">require([\"plotly\"], function(Plotly) { window.PLOTLYENV=window.PLOTLYENV || {};window.PLOTLYENV.BASE_URL=\"https://plot.ly\";Plotly.newPlot(\"a4d7d519-8809-40f4-bfc3-c7d479277d5e\", [{\"type\": \"bar\", \"x\": [\"Leatherby\", \"Law\", \"Science\", \"Music\", \"Brandman\"], \"y\": [543, 365, 92, 61, 77]}], {\"title\": \"SCIUG Conference\"}, {\"showLink\": true, \"linkText\": \"Export to plot.ly\"})});</script>"
      ],
      "text/vnd.plotly.v1+html": [
       "<div id=\"a4d7d519-8809-40f4-bfc3-c7d479277d5e\" style=\"height: 525px; width: 100%;\" class=\"plotly-graph-div\"></div><script type=\"text/javascript\">require([\"plotly\"], function(Plotly) { window.PLOTLYENV=window.PLOTLYENV || {};window.PLOTLYENV.BASE_URL=\"https://plot.ly\";Plotly.newPlot(\"a4d7d519-8809-40f4-bfc3-c7d479277d5e\", [{\"type\": \"bar\", \"x\": [\"Leatherby\", \"Law\", \"Science\", \"Music\", \"Brandman\"], \"y\": [543, 365, 92, 61, 77]}], {\"title\": \"SCIUG Conference\"}, {\"showLink\": true, \"linkText\": \"Export to plot.ly\"})});</script>"
      ]
     },
     "metadata": {},
     "output_type": "display_data"
    }
   ],
   "source": [
    "import plotly\n",
    "from plotly.graph_objs import Bar, Pie, Scatter, Layout\n",
    "\n",
    "plotly.offline.init_notebook_mode(connected=True)\n",
    "\n",
    "# Bar Chart\n",
    "plotly.offline.iplot({\n",
    "    \"data\": [Bar(x=[\"Leatherby\", \"Law\", \"Science\", \"Music\", \"Brandman\"], y=[543, 365, 92, 61, 77])],\n",
    "    \"layout\": Layout(title=\"SCIUG Conference\")\n",
    "})"
   ]
  },
  {
   "cell_type": "markdown",
   "metadata": {},
   "source": [
    "### Example Two: Import a script as a module\n",
    "Jupyter was actually designed to communicate experiements and ideas. So, the code parts in cells should not be long unnecessarily. Ideally, it is good just to import the code, unless the main goal is to share the code itself. In this second example, we will just import the exactly same script as a module.<br>\n",
    "**[Warning] You need to restart the current kernel to make a modified script be effective.**"
   ]
  },
  {
   "cell_type": "code",
   "execution_count": 2,
   "metadata": {},
   "outputs": [
    {
     "data": {
      "text/html": [
       "<script>requirejs.config({paths: { 'plotly': ['https://cdn.plot.ly/plotly-latest.min']},});if(!window.Plotly) {{require(['plotly'],function(plotly) {window.Plotly=plotly;});}}</script>"
      ],
      "text/vnd.plotly.v1+html": [
       "<script>requirejs.config({paths: { 'plotly': ['https://cdn.plot.ly/plotly-latest.min']},});if(!window.Plotly) {{require(['plotly'],function(plotly) {window.Plotly=plotly;});}}</script>"
      ]
     },
     "metadata": {},
     "output_type": "display_data"
    },
    {
     "data": {
      "application/vnd.plotly.v1+json": {
       "data": [
        {
         "labels": [
          "Leatherby",
          "Law",
          "Science",
          "Music",
          "Brandman"
         ],
         "type": "pie",
         "values": [
          543,
          365,
          92,
          61,
          77
         ]
        }
       ],
       "layout": {
        "title": "Checkouts by Libraries"
       }
      },
      "text/html": [
       "<div id=\"c8f55886-0936-42ca-b99a-004d48c3f803\" style=\"height: 525px; width: 100%;\" class=\"plotly-graph-div\"></div><script type=\"text/javascript\">require([\"plotly\"], function(Plotly) { window.PLOTLYENV=window.PLOTLYENV || {};window.PLOTLYENV.BASE_URL=\"https://plot.ly\";Plotly.newPlot(\"c8f55886-0936-42ca-b99a-004d48c3f803\", [{\"type\": \"pie\", \"labels\": [\"Leatherby\", \"Law\", \"Science\", \"Music\", \"Brandman\"], \"values\": [543, 365, 92, 61, 77]}], {\"title\": \"Checkouts by Libraries\"}, {\"showLink\": true, \"linkText\": \"Export to plot.ly\"})});</script>"
      ],
      "text/vnd.plotly.v1+html": [
       "<div id=\"c8f55886-0936-42ca-b99a-004d48c3f803\" style=\"height: 525px; width: 100%;\" class=\"plotly-graph-div\"></div><script type=\"text/javascript\">require([\"plotly\"], function(Plotly) { window.PLOTLYENV=window.PLOTLYENV || {};window.PLOTLYENV.BASE_URL=\"https://plot.ly\";Plotly.newPlot(\"c8f55886-0936-42ca-b99a-004d48c3f803\", [{\"type\": \"pie\", \"labels\": [\"Leatherby\", \"Law\", \"Science\", \"Music\", \"Brandman\"], \"values\": [543, 365, 92, 61, 77]}], {\"title\": \"Checkouts by Libraries\"}, {\"showLink\": true, \"linkText\": \"Export to plot.ly\"})});</script>"
      ]
     },
     "metadata": {},
     "output_type": "display_data"
    }
   ],
   "source": [
    "import first"
   ]
  },
  {
   "cell_type": "markdown",
   "metadata": {},
   "source": [
    "### Example 3: Use a magic function %run to execute a script as a .py file\n",
    "What about if we need to reflect user inputs when we run a script. In this case, we have to use a Jupyter's magic function **%run**. The magic function does not import a script to Jupyter as a module (as we did in the second example), but runs the script in a Jupyter background shell and delivers final outputs to Jupyter. <br>\n",
    "This method is useful when you execute a python script that takes user inputs interactively. Again, we will re-use a script that we had already used: sierra_chart_embed.py. I took off output_type=dive, because we present charts on Jupyter. Please note two important things in this example. First, I specify my user option (only checkout(o) and checkin(i) in five days, when I run the script. Second, this script actually gets actual data from Sierra database. "
   ]
  },
  {
   "cell_type": "code",
   "execution_count": 3,
   "metadata": {},
   "outputs": [
    {
     "data": {
      "application/vnd.plotly.v1+json": {
       "data": [
        {
         "type": "bar",
         "x": [
          "cbran",
          "chome",
          "lhome"
         ],
         "y": [
          14,
          2381,
          457
         ]
        }
       ],
       "layout": {
        "title": "Home Libraries"
       }
      },
      "text/html": [
       "<div id=\"b424ffa8-33d4-4915-93dd-1108ec9784ee\" style=\"height: 525px; width: 100%;\" class=\"plotly-graph-div\"></div><script type=\"text/javascript\">require([\"plotly\"], function(Plotly) { window.PLOTLYENV=window.PLOTLYENV || {};window.PLOTLYENV.BASE_URL=\"https://plot.ly\";Plotly.newPlot(\"b424ffa8-33d4-4915-93dd-1108ec9784ee\", [{\"type\": \"bar\", \"x\": [\"cbran\", \"chome\", \"lhome\"], \"y\": [14, 2381, 457]}], {\"title\": \"Home Libraries\"}, {\"showLink\": true, \"linkText\": \"Export to plot.ly\"})});</script>"
      ],
      "text/vnd.plotly.v1+html": [
       "<div id=\"b424ffa8-33d4-4915-93dd-1108ec9784ee\" style=\"height: 525px; width: 100%;\" class=\"plotly-graph-div\"></div><script type=\"text/javascript\">require([\"plotly\"], function(Plotly) { window.PLOTLYENV=window.PLOTLYENV || {};window.PLOTLYENV.BASE_URL=\"https://plot.ly\";Plotly.newPlot(\"b424ffa8-33d4-4915-93dd-1108ec9784ee\", [{\"type\": \"bar\", \"x\": [\"cbran\", \"chome\", \"lhome\"], \"y\": [14, 2381, 457]}], {\"title\": \"Home Libraries\"}, {\"showLink\": true, \"linkText\": \"Export to plot.ly\"})});</script>"
      ]
     },
     "metadata": {},
     "output_type": "display_data"
    },
    {
     "data": {
      "application/vnd.plotly.v1+json": {
       "data": [
        {
         "labels": [
          "i",
          "o"
         ],
         "type": "pie",
         "values": [
          1394,
          1458
         ]
        }
       ],
       "layout": {
        "title": "Transaction Types"
       }
      },
      "text/html": [
       "<div id=\"d7897ccb-ddc6-44b4-83e9-144370fb5fd0\" style=\"height: 525px; width: 100%;\" class=\"plotly-graph-div\"></div><script type=\"text/javascript\">require([\"plotly\"], function(Plotly) { window.PLOTLYENV=window.PLOTLYENV || {};window.PLOTLYENV.BASE_URL=\"https://plot.ly\";Plotly.newPlot(\"d7897ccb-ddc6-44b4-83e9-144370fb5fd0\", [{\"type\": \"pie\", \"labels\": [\"i\", \"o\"], \"values\": [1394, 1458]}], {\"title\": \"Transaction Types\"}, {\"showLink\": true, \"linkText\": \"Export to plot.ly\"})});</script>"
      ],
      "text/vnd.plotly.v1+html": [
       "<div id=\"d7897ccb-ddc6-44b4-83e9-144370fb5fd0\" style=\"height: 525px; width: 100%;\" class=\"plotly-graph-div\"></div><script type=\"text/javascript\">require([\"plotly\"], function(Plotly) { window.PLOTLYENV=window.PLOTLYENV || {};window.PLOTLYENV.BASE_URL=\"https://plot.ly\";Plotly.newPlot(\"d7897ccb-ddc6-44b4-83e9-144370fb5fd0\", [{\"type\": \"pie\", \"labels\": [\"i\", \"o\"], \"values\": [1394, 1458]}], {\"title\": \"Transaction Types\"}, {\"showLink\": true, \"linkText\": \"Export to plot.ly\"})});</script>"
      ]
     },
     "metadata": {},
     "output_type": "display_data"
    },
    {
     "data": {
      "application/vnd.plotly.v1+json": {
       "data": [
        {
         "type": "bar",
         "x": [
          "0",
          "1",
          "10",
          "12",
          "14",
          "15",
          "16",
          "2",
          "20",
          "21",
          "22",
          "28",
          "29",
          "4",
          "5",
          "6"
         ],
         "y": [
          1709,
          101,
          67,
          10,
          405,
          12,
          6,
          48,
          16,
          31,
          5,
          298,
          40,
          25,
          5,
          74
         ]
        }
       ],
       "layout": {
        "title": "Patron Types",
        "xaxis": {
         "type": "category"
        }
       }
      },
      "text/html": [
       "<div id=\"9afce87b-12e8-4d32-ae52-1029347b5498\" style=\"height: 525px; width: 100%;\" class=\"plotly-graph-div\"></div><script type=\"text/javascript\">require([\"plotly\"], function(Plotly) { window.PLOTLYENV=window.PLOTLYENV || {};window.PLOTLYENV.BASE_URL=\"https://plot.ly\";Plotly.newPlot(\"9afce87b-12e8-4d32-ae52-1029347b5498\", [{\"type\": \"bar\", \"x\": [\"0\", \"1\", \"10\", \"12\", \"14\", \"15\", \"16\", \"2\", \"20\", \"21\", \"22\", \"28\", \"29\", \"4\", \"5\", \"6\"], \"y\": [1709, 101, 67, 10, 405, 12, 6, 48, 16, 31, 5, 298, 40, 25, 5, 74]}], {\"title\": \"Patron Types\", \"xaxis\": {\"type\": \"category\"}}, {\"showLink\": true, \"linkText\": \"Export to plot.ly\"})});</script>"
      ],
      "text/vnd.plotly.v1+html": [
       "<div id=\"9afce87b-12e8-4d32-ae52-1029347b5498\" style=\"height: 525px; width: 100%;\" class=\"plotly-graph-div\"></div><script type=\"text/javascript\">require([\"plotly\"], function(Plotly) { window.PLOTLYENV=window.PLOTLYENV || {};window.PLOTLYENV.BASE_URL=\"https://plot.ly\";Plotly.newPlot(\"9afce87b-12e8-4d32-ae52-1029347b5498\", [{\"type\": \"bar\", \"x\": [\"0\", \"1\", \"10\", \"12\", \"14\", \"15\", \"16\", \"2\", \"20\", \"21\", \"22\", \"28\", \"29\", \"4\", \"5\", \"6\"], \"y\": [1709, 101, 67, 10, 405, 12, 6, 48, 16, 31, 5, 298, 40, 25, 5, 74]}], {\"title\": \"Patron Types\", \"xaxis\": {\"type\": \"category\"}}, {\"showLink\": true, \"linkText\": \"Export to plot.ly\"})});</script>"
      ]
     },
     "metadata": {},
     "output_type": "display_data"
    },
    {
     "data": {
      "application/vnd.plotly.v1+json": {
       "data": [
        {
         "type": "bar",
         "x": [
          "calum",
          "cbdvd",
          "cbsta",
          "ccfst",
          "ccsta",
          "cedvd",
          "cemdv",
          "cemst",
          "cesta",
          "cfacp",
          "cfdvd",
          "cfsta",
          "cfvid",
          "cgsta",
          "chacd",
          "chast",
          "chdvd",
          "chsta",
          "cill",
          "cmcna",
          "cmcol",
          "cmdvd",
          "cmmcd",
          "cmmin",
          "cmovr",
          "cmsta",
          "cresa",
          "cresb",
          "cresc",
          "cresd",
          "cresf",
          "cresh",
          "cresi",
          "cresm",
          "cresv",
          "crxst",
          "csdvd",
          "cssta",
          "ctcas",
          "ctdvd",
          "ctovr",
          "ctscs",
          "ctsov",
          "ctsta",
          "lcrsv",
          "lfrst",
          "lill",
          "lres",
          "lsecn"
         ],
         "y": [
          1,
          1,
          34,
          3,
          1,
          2,
          11,
          29,
          11,
          4,
          199,
          43,
          8,
          2,
          1,
          11,
          8,
          251,
          61,
          10,
          2,
          5,
          5,
          3,
          1,
          55,
          12,
          102,
          88,
          46,
          4,
          16,
          3,
          1222,
          6,
          8,
          2,
          84,
          1,
          4,
          3,
          4,
          3,
          60,
          4,
          6,
          19,
          378,
          15
         ]
        }
       ],
       "layout": {
        "title": "Item Locations"
       }
      },
      "text/html": [
       "<div id=\"72f8a69c-5315-4aa8-ad44-e3dcfe5caedf\" style=\"height: 525px; width: 100%;\" class=\"plotly-graph-div\"></div><script type=\"text/javascript\">require([\"plotly\"], function(Plotly) { window.PLOTLYENV=window.PLOTLYENV || {};window.PLOTLYENV.BASE_URL=\"https://plot.ly\";Plotly.newPlot(\"72f8a69c-5315-4aa8-ad44-e3dcfe5caedf\", [{\"type\": \"bar\", \"x\": [\"calum\", \"cbdvd\", \"cbsta\", \"ccfst\", \"ccsta\", \"cedvd\", \"cemdv\", \"cemst\", \"cesta\", \"cfacp\", \"cfdvd\", \"cfsta\", \"cfvid\", \"cgsta\", \"chacd\", \"chast\", \"chdvd\", \"chsta\", \"cill\", \"cmcna\", \"cmcol\", \"cmdvd\", \"cmmcd\", \"cmmin\", \"cmovr\", \"cmsta\", \"cresa\", \"cresb\", \"cresc\", \"cresd\", \"cresf\", \"cresh\", \"cresi\", \"cresm\", \"cresv\", \"crxst\", \"csdvd\", \"cssta\", \"ctcas\", \"ctdvd\", \"ctovr\", \"ctscs\", \"ctsov\", \"ctsta\", \"lcrsv\", \"lfrst\", \"lill\", \"lres\", \"lsecn\"], \"y\": [1, 1, 34, 3, 1, 2, 11, 29, 11, 4, 199, 43, 8, 2, 1, 11, 8, 251, 61, 10, 2, 5, 5, 3, 1, 55, 12, 102, 88, 46, 4, 16, 3, 1222, 6, 8, 2, 84, 1, 4, 3, 4, 3, 60, 4, 6, 19, 378, 15]}], {\"title\": \"Item Locations\"}, {\"showLink\": true, \"linkText\": \"Export to plot.ly\"})});</script>"
      ],
      "text/vnd.plotly.v1+html": [
       "<div id=\"72f8a69c-5315-4aa8-ad44-e3dcfe5caedf\" style=\"height: 525px; width: 100%;\" class=\"plotly-graph-div\"></div><script type=\"text/javascript\">require([\"plotly\"], function(Plotly) { window.PLOTLYENV=window.PLOTLYENV || {};window.PLOTLYENV.BASE_URL=\"https://plot.ly\";Plotly.newPlot(\"72f8a69c-5315-4aa8-ad44-e3dcfe5caedf\", [{\"type\": \"bar\", \"x\": [\"calum\", \"cbdvd\", \"cbsta\", \"ccfst\", \"ccsta\", \"cedvd\", \"cemdv\", \"cemst\", \"cesta\", \"cfacp\", \"cfdvd\", \"cfsta\", \"cfvid\", \"cgsta\", \"chacd\", \"chast\", \"chdvd\", \"chsta\", \"cill\", \"cmcna\", \"cmcol\", \"cmdvd\", \"cmmcd\", \"cmmin\", \"cmovr\", \"cmsta\", \"cresa\", \"cresb\", \"cresc\", \"cresd\", \"cresf\", \"cresh\", \"cresi\", \"cresm\", \"cresv\", \"crxst\", \"csdvd\", \"cssta\", \"ctcas\", \"ctdvd\", \"ctovr\", \"ctscs\", \"ctsov\", \"ctsta\", \"lcrsv\", \"lfrst\", \"lill\", \"lres\", \"lsecn\"], \"y\": [1, 1, 34, 3, 1, 2, 11, 29, 11, 4, 199, 43, 8, 2, 1, 11, 8, 251, 61, 10, 2, 5, 5, 3, 1, 55, 12, 102, 88, 46, 4, 16, 3, 1222, 6, 8, 2, 84, 1, 4, 3, 4, 3, 60, 4, 6, 19, 378, 15]}], {\"title\": \"Item Locations\"}, {\"showLink\": true, \"linkText\": \"Export to plot.ly\"})});</script>"
      ]
     },
     "metadata": {},
     "output_type": "display_data"
    },
    {
     "data": {
      "application/vnd.plotly.v1+json": {
       "data": [
        {
         "type": "bar",
         "x": [
          0,
          1,
          3,
          4,
          5,
          8,
          9,
          11,
          13,
          16,
          22,
          23,
          28,
          31,
          101,
          110,
          117,
          118,
          119
         ],
         "y": [
          597,
          277,
          8,
          8,
          10,
          5,
          1,
          53,
          1,
          1169,
          61,
          7,
          1,
          232,
          21,
          4,
          19,
          344,
          34
         ]
        }
       ],
       "layout": {
        "title": "Item Types",
        "xaxis": {
         "type": "category"
        }
       }
      },
      "text/html": [
       "<div id=\"41cd6ace-3376-4b31-b8bb-4a14cbfcc042\" style=\"height: 525px; width: 100%;\" class=\"plotly-graph-div\"></div><script type=\"text/javascript\">require([\"plotly\"], function(Plotly) { window.PLOTLYENV=window.PLOTLYENV || {};window.PLOTLYENV.BASE_URL=\"https://plot.ly\";Plotly.newPlot(\"41cd6ace-3376-4b31-b8bb-4a14cbfcc042\", [{\"type\": \"bar\", \"x\": [0, 1, 3, 4, 5, 8, 9, 11, 13, 16, 22, 23, 28, 31, 101, 110, 117, 118, 119], \"y\": [597, 277, 8, 8, 10, 5, 1, 53, 1, 1169, 61, 7, 1, 232, 21, 4, 19, 344, 34]}], {\"title\": \"Item Types\", \"xaxis\": {\"type\": \"category\"}}, {\"showLink\": true, \"linkText\": \"Export to plot.ly\"})});</script>"
      ],
      "text/vnd.plotly.v1+html": [
       "<div id=\"41cd6ace-3376-4b31-b8bb-4a14cbfcc042\" style=\"height: 525px; width: 100%;\" class=\"plotly-graph-div\"></div><script type=\"text/javascript\">require([\"plotly\"], function(Plotly) { window.PLOTLYENV=window.PLOTLYENV || {};window.PLOTLYENV.BASE_URL=\"https://plot.ly\";Plotly.newPlot(\"41cd6ace-3376-4b31-b8bb-4a14cbfcc042\", [{\"type\": \"bar\", \"x\": [0, 1, 3, 4, 5, 8, 9, 11, 13, 16, 22, 23, 28, 31, 101, 110, 117, 118, 119], \"y\": [597, 277, 8, 8, 10, 5, 1, 53, 1, 1169, 61, 7, 1, 232, 21, 4, 19, 344, 34]}], {\"title\": \"Item Types\", \"xaxis\": {\"type\": \"category\"}}, {\"showLink\": true, \"linkText\": \"Export to plot.ly\"})});</script>"
      ]
     },
     "metadata": {},
     "output_type": "display_data"
    },
    {
     "data": {
      "application/vnd.plotly.v1+json": {
       "data": [
        {
         "type": "scatter",
         "x": [
          "2017/10/01",
          "2017/10/02",
          "2017/10/03",
          "2017/10/04",
          "2017/10/05",
          "2017/10/06"
         ],
         "y": [
          326,
          634,
          617,
          690,
          544,
          41
         ]
        }
       ],
       "layout": {
        "title": "Times"
       }
      },
      "text/html": [
       "<div id=\"34b0265a-8a14-4b9a-9cce-d8d2367960dd\" style=\"height: 525px; width: 100%;\" class=\"plotly-graph-div\"></div><script type=\"text/javascript\">require([\"plotly\"], function(Plotly) { window.PLOTLYENV=window.PLOTLYENV || {};window.PLOTLYENV.BASE_URL=\"https://plot.ly\";Plotly.newPlot(\"34b0265a-8a14-4b9a-9cce-d8d2367960dd\", [{\"type\": \"scatter\", \"x\": [\"2017/10/01\", \"2017/10/02\", \"2017/10/03\", \"2017/10/04\", \"2017/10/05\", \"2017/10/06\"], \"y\": [326, 634, 617, 690, 544, 41]}], {\"title\": \"Times\"}, {\"showLink\": true, \"linkText\": \"Export to plot.ly\"})});</script>"
      ],
      "text/vnd.plotly.v1+html": [
       "<div id=\"34b0265a-8a14-4b9a-9cce-d8d2367960dd\" style=\"height: 525px; width: 100%;\" class=\"plotly-graph-div\"></div><script type=\"text/javascript\">require([\"plotly\"], function(Plotly) { window.PLOTLYENV=window.PLOTLYENV || {};window.PLOTLYENV.BASE_URL=\"https://plot.ly\";Plotly.newPlot(\"34b0265a-8a14-4b9a-9cce-d8d2367960dd\", [{\"type\": \"scatter\", \"x\": [\"2017/10/01\", \"2017/10/02\", \"2017/10/03\", \"2017/10/04\", \"2017/10/05\", \"2017/10/06\"], \"y\": [326, 634, 617, 690, 544, 41]}], {\"title\": \"Times\"}, {\"showLink\": true, \"linkText\": \"Export to plot.ly\"})});</script>"
      ]
     },
     "metadata": {},
     "output_type": "display_data"
    }
   ],
   "source": [
    "%run sierra_chart_embed 5 oi"
   ]
  },
  {
   "cell_type": "code",
   "execution_count": null,
   "metadata": {
    "collapsed": true
   },
   "outputs": [],
   "source": []
  }
 ],
 "metadata": {
  "kernelspec": {
   "display_name": "Python 3",
   "language": "python",
   "name": "python3"
  },
  "language_info": {
   "codemirror_mode": {
    "name": "ipython",
    "version": 3
   },
   "file_extension": ".py",
   "mimetype": "text/x-python",
   "name": "python",
   "nbconvert_exporter": "python",
   "pygments_lexer": "ipython3",
   "version": "3.6.1"
  }
 },
 "nbformat": 4,
 "nbformat_minor": 2
}
